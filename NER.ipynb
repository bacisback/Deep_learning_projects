{
 "cells": [
  {
   "cell_type": "code",
   "execution_count": 1,
   "metadata": {},
   "outputs": [
    {
     "data": {
      "text/html": [
       "<div>\n",
       "<style scoped>\n",
       "    .dataframe tbody tr th:only-of-type {\n",
       "        vertical-align: middle;\n",
       "    }\n",
       "\n",
       "    .dataframe tbody tr th {\n",
       "        vertical-align: top;\n",
       "    }\n",
       "\n",
       "    .dataframe thead th {\n",
       "        text-align: right;\n",
       "    }\n",
       "</style>\n",
       "<table border=\"1\" class=\"dataframe\">\n",
       "  <thead>\n",
       "    <tr style=\"text-align: right;\">\n",
       "      <th></th>\n",
       "      <th>Sentence #</th>\n",
       "      <th>Word</th>\n",
       "      <th>POS</th>\n",
       "      <th>Tag</th>\n",
       "    </tr>\n",
       "  </thead>\n",
       "  <tbody>\n",
       "    <tr>\n",
       "      <th>1048565</th>\n",
       "      <td>Sentence: 47958</td>\n",
       "      <td>impact</td>\n",
       "      <td>NN</td>\n",
       "      <td>O</td>\n",
       "    </tr>\n",
       "    <tr>\n",
       "      <th>1048566</th>\n",
       "      <td>Sentence: 47958</td>\n",
       "      <td>.</td>\n",
       "      <td>.</td>\n",
       "      <td>O</td>\n",
       "    </tr>\n",
       "    <tr>\n",
       "      <th>1048567</th>\n",
       "      <td>Sentence: 47959</td>\n",
       "      <td>Indian</td>\n",
       "      <td>JJ</td>\n",
       "      <td>B-gpe</td>\n",
       "    </tr>\n",
       "    <tr>\n",
       "      <th>1048568</th>\n",
       "      <td>Sentence: 47959</td>\n",
       "      <td>forces</td>\n",
       "      <td>NNS</td>\n",
       "      <td>O</td>\n",
       "    </tr>\n",
       "    <tr>\n",
       "      <th>1048569</th>\n",
       "      <td>Sentence: 47959</td>\n",
       "      <td>said</td>\n",
       "      <td>VBD</td>\n",
       "      <td>O</td>\n",
       "    </tr>\n",
       "    <tr>\n",
       "      <th>1048570</th>\n",
       "      <td>Sentence: 47959</td>\n",
       "      <td>they</td>\n",
       "      <td>PRP</td>\n",
       "      <td>O</td>\n",
       "    </tr>\n",
       "    <tr>\n",
       "      <th>1048571</th>\n",
       "      <td>Sentence: 47959</td>\n",
       "      <td>responded</td>\n",
       "      <td>VBD</td>\n",
       "      <td>O</td>\n",
       "    </tr>\n",
       "    <tr>\n",
       "      <th>1048572</th>\n",
       "      <td>Sentence: 47959</td>\n",
       "      <td>to</td>\n",
       "      <td>TO</td>\n",
       "      <td>O</td>\n",
       "    </tr>\n",
       "    <tr>\n",
       "      <th>1048573</th>\n",
       "      <td>Sentence: 47959</td>\n",
       "      <td>the</td>\n",
       "      <td>DT</td>\n",
       "      <td>O</td>\n",
       "    </tr>\n",
       "    <tr>\n",
       "      <th>1048574</th>\n",
       "      <td>Sentence: 47959</td>\n",
       "      <td>attack</td>\n",
       "      <td>NN</td>\n",
       "      <td>O</td>\n",
       "    </tr>\n",
       "  </tbody>\n",
       "</table>\n",
       "</div>"
      ],
      "text/plain": [
       "              Sentence #       Word  POS    Tag\n",
       "1048565  Sentence: 47958     impact   NN      O\n",
       "1048566  Sentence: 47958          .    .      O\n",
       "1048567  Sentence: 47959     Indian   JJ  B-gpe\n",
       "1048568  Sentence: 47959     forces  NNS      O\n",
       "1048569  Sentence: 47959       said  VBD      O\n",
       "1048570  Sentence: 47959       they  PRP      O\n",
       "1048571  Sentence: 47959  responded  VBD      O\n",
       "1048572  Sentence: 47959         to   TO      O\n",
       "1048573  Sentence: 47959        the   DT      O\n",
       "1048574  Sentence: 47959     attack   NN      O"
      ]
     },
     "execution_count": 1,
     "metadata": {},
     "output_type": "execute_result"
    }
   ],
   "source": [
    "import pandas as pd\n",
    "import numpy as np\n",
    "\n",
    "data = pd.read_csv(\"ner_dataset.csv\", encoding=\"latin1\") \n",
    "data = data.fillna(method=\"ffill\") \n",
    "data.tail(10)"
   ]
  },
  {
   "cell_type": "code",
   "execution_count": 2,
   "metadata": {},
   "outputs": [
    {
     "data": {
      "text/plain": [
       "35179"
      ]
     },
     "execution_count": 2,
     "metadata": {},
     "output_type": "execute_result"
    }
   ],
   "source": [
    "words = list(set(data[\"Word\"].values))\n",
    "words.append(\"ENDPAD\")\n",
    "n_words = len(words); n_words"
   ]
  },
  {
   "cell_type": "code",
   "execution_count": 3,
   "metadata": {},
   "outputs": [
    {
     "data": {
      "text/plain": [
       "17"
      ]
     },
     "execution_count": 3,
     "metadata": {},
     "output_type": "execute_result"
    }
   ],
   "source": [
    "tags = list(set(data[\"Tag\"].values))\n",
    "n_tags = len(tags); n_tags\n"
   ]
  },
  {
   "cell_type": "code",
   "execution_count": 4,
   "metadata": {},
   "outputs": [],
   "source": [
    "create_sentence = lambda d : [(w, p, t) for w, p, t in zip(d[\"Word\"].values.tolist(),\n",
    "                                                           d[\"POS\"].values.tolist(),\n",
    "                                                           d[\"Tag\"].values.tolist())]\n",
    "\n",
    "sentences = data.groupby(\"Sentence #\").apply(create_sentence)"
   ]
  },
  {
   "cell_type": "code",
   "execution_count": 18,
   "metadata": {},
   "outputs": [
    {
     "data": {
      "image/png": "[encoded data removed]",
      "text/plain": [
       "<Figure size 576x396 with 1 Axes>"
      ]
     },
     "metadata": {},
     "output_type": "display_data"
    }
   ],
   "source": [
    "import matplotlib.pyplot as plt\n",
    "plt.style.use(\"seaborn\")\n",
    "sentences_len = [len(s) for s in sentences]\n",
    "plt.hist(sentences_len, bins=25)\n",
    "plt.show()"
   ]
  },
  {
   "cell_type": "code",
   "execution_count": 19,
   "metadata": {},
   "outputs": [],
   "source": [
    "max_len = np.max(sentences_len)\n",
    "word2idx = {w: i for i, w in enumerate(words)}\n",
    "tag2idx = {t: i for i, t in enumerate(tags)}"
   ]
  },
  {
   "cell_type": "code",
   "execution_count": 23,
   "metadata": {},
   "outputs": [
    {
     "data": {
      "text/plain": [
       "array([10908, 27156, 34212, 16030,  2762,  7084, 10034, 16915,  7084,\n",
       "        4944, 27170,  5419, 32334, 31601, 24992,  3426, 14885, 18609,\n",
       "        2182, 20713, 15804, 25497, 29007, 32375, 15900, 35178, 35178,\n",
       "       35178, 35178, 35178, 35178, 35178, 35178, 35178, 35178, 35178,\n",
       "       35178, 35178, 35178, 35178, 35178, 35178, 35178, 35178, 35178,\n",
       "       35178, 35178, 35178, 35178, 35178, 35178, 35178, 35178, 35178,\n",
       "       35178, 35178, 35178, 35178, 35178, 35178, 35178, 35178, 35178,\n",
       "       35178, 35178, 35178, 35178, 35178, 35178, 35178, 35178, 35178,\n",
       "       35178, 35178, 35178, 35178, 35178, 35178, 35178, 35178, 35178,\n",
       "       35178, 35178, 35178, 35178, 35178, 35178, 35178, 35178, 35178,\n",
       "       35178, 35178, 35178, 35178, 35178, 35178, 35178, 35178, 35178,\n",
       "       35178, 35178, 35178, 35178, 35178], dtype=int32)"
      ]
     },
     "execution_count": 23,
     "metadata": {},
     "output_type": "execute_result"
    }
   ],
   "source": [
    "from keras.preprocessing.sequence import pad_sequences\n",
    "X = [[word2idx[w[0]] for w in s] for s in sentences]\n",
    "X = pad_sequences(maxlen=max_len, sequences=X, padding=\"post\", value=n_words - 1)\n",
    "X[1]"
   ]
  },
  {
   "cell_type": "code",
   "execution_count": 25,
   "metadata": {},
   "outputs": [
    {
     "data": {
      "text/plain": [
       "array([12,  2,  2,  2,  2,  2,  2,  2,  2,  2,  2,  2,  2,  2,  2,  1,  2,\n",
       "        2,  2,  8,  2,  2,  2,  2,  2,  2,  2,  2,  2,  2,  2,  2,  2,  2,\n",
       "        2,  2,  2,  2,  2,  2,  2,  2,  2,  2,  2,  2,  2,  2,  2,  2,  2,\n",
       "        2,  2,  2,  2,  2,  2,  2,  2,  2,  2,  2,  2,  2,  2,  2,  2,  2,\n",
       "        2,  2,  2,  2,  2,  2,  2,  2,  2,  2,  2,  2,  2,  2,  2,  2,  2,\n",
       "        2,  2,  2,  2,  2,  2,  2,  2,  2,  2,  2,  2,  2,  2,  2,  2,  2,\n",
       "        2,  2], dtype=int32)"
      ]
     },
     "execution_count": 25,
     "metadata": {},
     "output_type": "execute_result"
    }
   ],
   "source": [
    "y = [[tag2idx[w[2]] for w in s] for s in sentences]\n",
    "y = pad_sequences(maxlen=max_len, sequences=y, padding=\"post\", value=tag2idx[\"O\"])\n",
    "y[1]"
   ]
  },
  {
   "cell_type": "code",
   "execution_count": 26,
   "metadata": {},
   "outputs": [],
   "source": [
    "from keras.utils import to_categorical\n",
    "from sklearn.model_selection import train_test_split\n",
    "y = [to_categorical(i, num_classes=n_tags) for i in y]\n",
    "X_tr, X_te, y_tr, y_te = train_test_split(X, y, test_size=0.1)"
   ]
  },
  {
   "cell_type": "code",
   "execution_count": 48,
   "metadata": {},
   "outputs": [
    {
     "name": "stdout",
     "output_type": "stream",
     "text": [
      "Train on 38846 samples, validate on 4317 samples\n",
      "Epoch 1/5\n",
      "38846/38846 [==============================] - 92s 2ms/step - loss: 0.1048 - accuracy: 0.9769 - val_loss: 0.0391 - val_accuracy: 0.9895\n",
      "\n",
      "----- Looking for NE: 0\n",
      "----- NE with seed: \"The rebels have been fighting since 1996 to replace the constitutional monarchy in the world 's only Hindu kingdom with a communist state .\"\n",
      "Word            (True ): Pred\n",
      "The            : O\n",
      "rebels         : O\n",
      "have           : O\n",
      "been           : O\n",
      "fighting       : O\n",
      "since          : O\n",
      "1996           : B-tim\n",
      "to             : O\n",
      "replace        : O\n",
      "the            : O\n",
      "constitutional : O\n",
      "monarchy       : O\n",
      "in             : O\n",
      "the            : O\n",
      "world          : O\n",
      "'s             : O\n",
      "only           : O\n",
      "Hindu          : B-geo\n",
      "kingdom        : O\n",
      "with           : O\n",
      "a              : O\n",
      "communist      : O\n",
      "state          : O\n",
      ".              : O\n",
      "\n",
      "\n",
      "Epoch 00001: accuracy improved from inf to 0.97693, saving model to weights/NER\n",
      "Epoch 2/5\n",
      "38846/38846 [==============================] - 98s 3ms/step - loss: 0.0295 - accuracy: 0.9915 - val_loss: 0.0266 - val_accuracy: 0.9921\n",
      "\n",
      "----- Looking for NE: 1\n",
      "----- NE with seed: \"French police placed four people four youths under investigation in connection with a bus attack Saturday in Marseille that left a passenger in critical condition .\"\n",
      "Word            (True ): Pred\n",
      "French         : B-gpe\n",
      "police         : O\n",
      "placed         : O\n",
      "four           : O\n",
      "people         : O\n",
      "four           : O\n",
      "youths         : O\n",
      "under          : O\n",
      "investigation  : O\n",
      "in             : O\n",
      "connection     : O\n",
      "with           : O\n",
      "a              : O\n",
      "bus            : O\n",
      "attack         : O\n",
      "Saturday       : B-tim\n",
      "in             : O\n",
      "Marseille      : B-geo\n",
      "that           : O\n",
      "left           : O\n",
      "a              : O\n",
      "passenger      : O\n",
      "in             : O\n",
      "critical       : O\n",
      "condition      : O\n",
      ".              : O\n",
      "\n",
      "\n",
      "Epoch 00002: accuracy did not improve from 0.97693\n",
      "Epoch 3/5\n",
      "38846/38846 [==============================] - 108s 3ms/step - loss: 0.0215 - accuracy: 0.9936 - val_loss: 0.0238 - val_accuracy: 0.9929\n",
      "\n",
      "----- Looking for NE: 2\n",
      "----- NE with seed: \"Astronauts Dave Wolf and Tom Marshburn undertook a 6-hour , 53-minute spacewalk Monday to conduct maintenance work at the station .\"\n",
      "Word            (True ): Pred\n",
      "Astronauts     : O\n",
      "Dave           : B-per\n",
      "Wolf           : I-per\n",
      "and            : O\n",
      "Tom            : B-per\n",
      "Marshburn      : I-per\n",
      "undertook      : O\n",
      "a              : O\n",
      "6-hour         : O\n",
      ",              : O\n",
      "53-minute      : O\n",
      "spacewalk      : O\n",
      "Monday         : B-tim\n",
      "to             : O\n",
      "conduct        : O\n",
      "maintenance    : O\n",
      "work           : O\n",
      "at             : O\n",
      "the            : O\n",
      "station        : O\n",
      ".              : O\n",
      "\n",
      "\n",
      "Epoch 00003: accuracy did not improve from 0.97693\n",
      "Epoch 4/5\n",
      "38846/38846 [==============================] - 112s 3ms/step - loss: 0.0183 - accuracy: 0.9944 - val_loss: 0.0232 - val_accuracy: 0.9930\n",
      "\n",
      "----- Looking for NE: 3\n",
      "----- NE with seed: \"Last month , Germany , France and Spain expressed concern that peacekeeping operations and offensive operations would be linked together under one mission .\"\n",
      "Word            (True ): Pred\n",
      "Last           : O\n",
      "month          : O\n",
      ",              : O\n",
      "Germany        : B-geo\n",
      ",              : O\n",
      "France         : B-geo\n",
      "and            : O\n",
      "Spain          : B-geo\n",
      "expressed      : O\n",
      "concern        : O\n",
      "that           : O\n",
      "peacekeeping   : O\n",
      "operations     : O\n",
      "and            : O\n",
      "offensive      : O\n",
      "operations     : O\n",
      "would          : O\n",
      "be             : O\n",
      "linked         : O\n",
      "together       : O\n",
      "under          : O\n",
      "one            : O\n",
      "mission        : O\n",
      ".              : O\n",
      "\n",
      "\n",
      "Epoch 00004: accuracy did not improve from 0.97693\n",
      "Epoch 5/5\n",
      "38846/38846 [==============================] - 110s 3ms/step - loss: 0.0163 - accuracy: 0.9949 - val_loss: 0.0226 - val_accuracy: 0.9932\n",
      "\n",
      "----- Looking for NE: 4\n",
      "----- NE with seed: \"Seventeen EU experts are already in the country to monitor pre-election preparations .\"\n",
      "Word            (True ): Pred\n",
      "Seventeen      : O\n",
      "EU             : B-org\n",
      "experts        : O\n",
      "are            : O\n",
      "already        : O\n",
      "in             : O\n",
      "the            : O\n",
      "country        : O\n",
      "to             : O\n",
      "monitor        : O\n",
      "pre-election   : O\n",
      "preparations   : O\n",
      ".              : O\n",
      "\n",
      "\n",
      "Epoch 00005: accuracy did not improve from 0.97693\n"
     ]
    }
   ],
   "source": [
    "from keras.models import Model, Input\n",
    "from keras.layers import LSTM, Embedding, Dense, TimeDistributed, Dropout, Bidirectional\n",
    "from keras.callbacks import LambdaCallback\n",
    "from keras.callbacks import ModelCheckpoint\n",
    "\n",
    "input = Input(shape=(max_len,))\n",
    "model = Embedding(input_dim=n_words, output_dim=50, input_length=max_len)(input)\n",
    "model = Dropout(0.25)(model)\n",
    "model = Bidirectional(LSTM(units=124, return_sequences=True, recurrent_dropout=0.25, dropout=0.25))(model)\n",
    "out = TimeDistributed(Dense(n_tags, activation=\"softmax\"))(model)  # softmax output layer\n",
    "model = Model(input, out)\n",
    "model.compile(optimizer=\"adam\", loss=\"categorical_crossentropy\", metrics=[\"accuracy\"])\n",
    "\n",
    "def on_epoch_end(epoch, _):\n",
    "    # Function invoked at end of each epoch. Prints generated text.\n",
    "    print()\n",
    "    print('----- Looking for NE: %d' % epoch)\n",
    "\n",
    "    sentence = np.random.choice(sentences)\n",
    "    print('----- NE with seed: \"' + \" \".join([w[0] for w in sentence]) + '\"')\n",
    "    sentence_emb = [[word2idx[w[0]] for w in sentence]]\n",
    "    sentence_emb = pad_sequences(maxlen=max_len, sequences=sentence_emb, padding=\"post\", value=n_words - 1)\n",
    "    p = model.predict(sentence_emb, verbose=0)\n",
    "    p = np.argmax(p, axis=-1)\n",
    "    print(\"{:15} ({:5}): {}\".format(\"Word\", \"True\", \"Pred\"))\n",
    "    for w, pred in zip(sentence, p[0][:len(sentence)]):\n",
    "        print(\"{:15}: {}\".format(w[0], tags[pred]))\n",
    "    print()\n",
    "\n",
    "print_callback = LambdaCallback(on_epoch_end=on_epoch_end)\n",
    "checkpoint = ModelCheckpoint(\"weights/NER\", monitor='accuracy', verbose=1, save_best_only=True, mode='max')\n",
    "\n",
    "\n",
    "history = model.fit(X_tr, np.array(y_tr), batch_size=32, epochs=5,\n",
    "                    validation_split=0.1, verbose=1, callbacks=[print_callback, checkpoint])\n"
   ]
  },
  {
   "cell_type": "code",
   "execution_count": 50,
   "metadata": {},
   "outputs": [
    {
     "data": {
      "image/png": "[encoded data removed]",
      "text/plain": [
       "<Figure size 864x864 with 1 Axes>"
      ]
     },
     "metadata": {},
     "output_type": "display_data"
    }
   ],
   "source": [
    "hist = pd.DataFrame(history.history)\n",
    "plt.figure(figsize=(12,12))\n",
    "plt.plot(hist[\"accuracy\"], label = \"train\")\n",
    "plt.plot(hist[\"val_accuracy\"], labe)\n",
    "plt.show()\n"
   ]
  },
  {
   "cell_type": "code",
   "execution_count": null,
   "metadata": {},
   "outputs": [],
   "source": []
  }
 ],
 "metadata": {
  "kernelspec": {
   "display_name": "Python 3",
   "language": "python",
   "name": "python3"
  },
  "language_info": {
   "codemirror_mode": {
    "name": "ipython",
    "version": 3
   },
   "file_extension": ".py",
   "mimetype": "text/x-python",
   "name": "python",
   "nbconvert_exporter": "python",
   "pygments_lexer": "ipython3",
   "version": "3.6.9"
  }
 },
 "nbformat": 4,
 "nbformat_minor": 2
}
